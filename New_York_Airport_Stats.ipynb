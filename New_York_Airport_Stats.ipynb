{
  "nbformat": 4,
  "nbformat_minor": 0,
  "metadata": {
    "colab": {
      "name": "New_York_Airport_Stats.ipynb",
      "provenance": [],
      "collapsed_sections": []
    },
    "kernelspec": {
      "name": "python3",
      "display_name": "Python 3"
    },
    "language_info": {
      "name": "python"
    }
  },
  "cells": [
    {
      "cell_type": "code",
      "metadata": {
        "id": "e0MNc1AwBk7V"
      },
      "source": [
        "# importing the libraries\n",
        "from datetime import datetime\n",
        "from datetime import timedelta\n",
        "import matplotlib.pyplot as plt\n",
        "import pandas as pd\n",
        "import numpy as np\n",
        "import seaborn as sns\n",
        "import plotly.express as px\n",
        "from sklearn.linear_model import LinearRegression\n",
        "from sklearn.linear_model import Ridge\n",
        "from sklearn.linear_model import SGDRegressor\n",
        "from sklearn.model_selection import train_test_split\n"
      ],
      "execution_count": null,
      "outputs": []
    },
    {
      "cell_type": "code",
      "metadata": {
        "colab": {
          "base_uri": "https://localhost:8080/",
          "height": 205
        },
        "id": "zpw_SwLwB60S",
        "outputId": "c83c6da6-337e-4629-e65f-3d128d90408f"
      },
      "source": [
        "link = \"/content/sample_data/nyc-flights.csv\"\n",
        "df = pd.read_csv(link)\n",
        "df.head()"
      ],
      "execution_count": null,
      "outputs": [
        {
          "output_type": "execute_result",
          "data": {
            "text/html": [
              "<div>\n",
              "<style scoped>\n",
              "    .dataframe tbody tr th:only-of-type {\n",
              "        vertical-align: middle;\n",
              "    }\n",
              "\n",
              "    .dataframe tbody tr th {\n",
              "        vertical-align: top;\n",
              "    }\n",
              "\n",
              "    .dataframe thead th {\n",
              "        text-align: right;\n",
              "    }\n",
              "</style>\n",
              "<table border=\"1\" class=\"dataframe\">\n",
              "  <thead>\n",
              "    <tr style=\"text-align: right;\">\n",
              "      <th></th>\n",
              "      <th>year</th>\n",
              "      <th>month</th>\n",
              "      <th>day</th>\n",
              "      <th>dep_time</th>\n",
              "      <th>dep_delay</th>\n",
              "      <th>arr_time</th>\n",
              "      <th>arr_delay</th>\n",
              "      <th>carrier</th>\n",
              "      <th>tailnum</th>\n",
              "      <th>flight</th>\n",
              "      <th>origin</th>\n",
              "      <th>dest</th>\n",
              "      <th>air_time</th>\n",
              "      <th>distance</th>\n",
              "      <th>hour</th>\n",
              "      <th>minute</th>\n",
              "    </tr>\n",
              "  </thead>\n",
              "  <tbody>\n",
              "    <tr>\n",
              "      <th>0</th>\n",
              "      <td>2013</td>\n",
              "      <td>6</td>\n",
              "      <td>30</td>\n",
              "      <td>940</td>\n",
              "      <td>15</td>\n",
              "      <td>1216</td>\n",
              "      <td>-4</td>\n",
              "      <td>VX</td>\n",
              "      <td>N626VA</td>\n",
              "      <td>407</td>\n",
              "      <td>JFK</td>\n",
              "      <td>LAX</td>\n",
              "      <td>313</td>\n",
              "      <td>2475</td>\n",
              "      <td>9</td>\n",
              "      <td>40</td>\n",
              "    </tr>\n",
              "    <tr>\n",
              "      <th>1</th>\n",
              "      <td>2013</td>\n",
              "      <td>5</td>\n",
              "      <td>7</td>\n",
              "      <td>1657</td>\n",
              "      <td>-3</td>\n",
              "      <td>2104</td>\n",
              "      <td>10</td>\n",
              "      <td>DL</td>\n",
              "      <td>N3760C</td>\n",
              "      <td>329</td>\n",
              "      <td>JFK</td>\n",
              "      <td>SJU</td>\n",
              "      <td>216</td>\n",
              "      <td>1598</td>\n",
              "      <td>16</td>\n",
              "      <td>57</td>\n",
              "    </tr>\n",
              "    <tr>\n",
              "      <th>2</th>\n",
              "      <td>2013</td>\n",
              "      <td>12</td>\n",
              "      <td>8</td>\n",
              "      <td>859</td>\n",
              "      <td>-1</td>\n",
              "      <td>1238</td>\n",
              "      <td>11</td>\n",
              "      <td>DL</td>\n",
              "      <td>N712TW</td>\n",
              "      <td>422</td>\n",
              "      <td>JFK</td>\n",
              "      <td>LAX</td>\n",
              "      <td>376</td>\n",
              "      <td>2475</td>\n",
              "      <td>8</td>\n",
              "      <td>59</td>\n",
              "    </tr>\n",
              "    <tr>\n",
              "      <th>3</th>\n",
              "      <td>2013</td>\n",
              "      <td>5</td>\n",
              "      <td>14</td>\n",
              "      <td>1841</td>\n",
              "      <td>-4</td>\n",
              "      <td>2122</td>\n",
              "      <td>-34</td>\n",
              "      <td>DL</td>\n",
              "      <td>N914DL</td>\n",
              "      <td>2391</td>\n",
              "      <td>JFK</td>\n",
              "      <td>TPA</td>\n",
              "      <td>135</td>\n",
              "      <td>1005</td>\n",
              "      <td>18</td>\n",
              "      <td>41</td>\n",
              "    </tr>\n",
              "    <tr>\n",
              "      <th>4</th>\n",
              "      <td>2013</td>\n",
              "      <td>7</td>\n",
              "      <td>21</td>\n",
              "      <td>1102</td>\n",
              "      <td>-3</td>\n",
              "      <td>1230</td>\n",
              "      <td>-8</td>\n",
              "      <td>9E</td>\n",
              "      <td>N823AY</td>\n",
              "      <td>3652</td>\n",
              "      <td>LGA</td>\n",
              "      <td>ORF</td>\n",
              "      <td>50</td>\n",
              "      <td>296</td>\n",
              "      <td>11</td>\n",
              "      <td>2</td>\n",
              "    </tr>\n",
              "  </tbody>\n",
              "</table>\n",
              "</div>"
            ],
            "text/plain": [
              "   year  month  day  dep_time  dep_delay  ...  dest  air_time distance hour  minute\n",
              "0  2013      6   30       940         15  ...   LAX       313     2475    9      40\n",
              "1  2013      5    7      1657         -3  ...   SJU       216     1598   16      57\n",
              "2  2013     12    8       859         -1  ...   LAX       376     2475    8      59\n",
              "3  2013      5   14      1841         -4  ...   TPA       135     1005   18      41\n",
              "4  2013      7   21      1102         -3  ...   ORF        50      296   11       2\n",
              "\n",
              "[5 rows x 16 columns]"
            ]
          },
          "metadata": {},
          "execution_count": 8
        }
      ]
    },
    {
      "cell_type": "code",
      "metadata": {
        "colab": {
          "base_uri": "https://localhost:8080/"
        },
        "id": "yO2b9TJh69t0",
        "outputId": "68ddca8e-082d-4a1c-e7c4-15af4cc5121f"
      },
      "source": [
        "df['delay_bool'] = df['dep_delay'].apply(lambda item: 1 if int(item) >0 else 0)\n",
        "df.head()\n",
        "cond4 = df['delay_bool']==1\n",
        "print(\"average departure delay in minutes at airport\", df.loc[cond4]['dep_delay'].mean())"
      ],
      "execution_count": null,
      "outputs": [
        {
          "output_type": "stream",
          "name": "stdout",
          "text": [
            "average departure delay in minutes at airport 39.50488319399953\n"
          ]
        }
      ]
    },
    {
      "cell_type": "code",
      "metadata": {
        "colab": {
          "base_uri": "https://localhost:8080/",
          "height": 225
        },
        "id": "GO7KfIUY7RHM",
        "outputId": "bc11c8b8-f5de-42fd-c973-79cb0f4cb4e1"
      },
      "source": [
        "df.head()"
      ],
      "execution_count": null,
      "outputs": [
        {
          "output_type": "execute_result",
          "data": {
            "text/html": [
              "<div>\n",
              "<style scoped>\n",
              "    .dataframe tbody tr th:only-of-type {\n",
              "        vertical-align: middle;\n",
              "    }\n",
              "\n",
              "    .dataframe tbody tr th {\n",
              "        vertical-align: top;\n",
              "    }\n",
              "\n",
              "    .dataframe thead th {\n",
              "        text-align: right;\n",
              "    }\n",
              "</style>\n",
              "<table border=\"1\" class=\"dataframe\">\n",
              "  <thead>\n",
              "    <tr style=\"text-align: right;\">\n",
              "      <th></th>\n",
              "      <th>year</th>\n",
              "      <th>month</th>\n",
              "      <th>day</th>\n",
              "      <th>dep_time</th>\n",
              "      <th>dep_delay</th>\n",
              "      <th>arr_time</th>\n",
              "      <th>arr_delay</th>\n",
              "      <th>carrier</th>\n",
              "      <th>tailnum</th>\n",
              "      <th>flight</th>\n",
              "      <th>origin</th>\n",
              "      <th>dest</th>\n",
              "      <th>air_time</th>\n",
              "      <th>distance</th>\n",
              "      <th>hour</th>\n",
              "      <th>minute</th>\n",
              "      <th>delay_bool</th>\n",
              "    </tr>\n",
              "  </thead>\n",
              "  <tbody>\n",
              "    <tr>\n",
              "      <th>0</th>\n",
              "      <td>2013</td>\n",
              "      <td>6</td>\n",
              "      <td>30</td>\n",
              "      <td>940</td>\n",
              "      <td>15</td>\n",
              "      <td>1216</td>\n",
              "      <td>-4</td>\n",
              "      <td>VX</td>\n",
              "      <td>N626VA</td>\n",
              "      <td>407</td>\n",
              "      <td>JFK</td>\n",
              "      <td>LAX</td>\n",
              "      <td>313</td>\n",
              "      <td>2475</td>\n",
              "      <td>9</td>\n",
              "      <td>40</td>\n",
              "      <td>1</td>\n",
              "    </tr>\n",
              "    <tr>\n",
              "      <th>1</th>\n",
              "      <td>2013</td>\n",
              "      <td>5</td>\n",
              "      <td>7</td>\n",
              "      <td>1657</td>\n",
              "      <td>-3</td>\n",
              "      <td>2104</td>\n",
              "      <td>10</td>\n",
              "      <td>DL</td>\n",
              "      <td>N3760C</td>\n",
              "      <td>329</td>\n",
              "      <td>JFK</td>\n",
              "      <td>SJU</td>\n",
              "      <td>216</td>\n",
              "      <td>1598</td>\n",
              "      <td>16</td>\n",
              "      <td>57</td>\n",
              "      <td>0</td>\n",
              "    </tr>\n",
              "    <tr>\n",
              "      <th>2</th>\n",
              "      <td>2013</td>\n",
              "      <td>12</td>\n",
              "      <td>8</td>\n",
              "      <td>859</td>\n",
              "      <td>-1</td>\n",
              "      <td>1238</td>\n",
              "      <td>11</td>\n",
              "      <td>DL</td>\n",
              "      <td>N712TW</td>\n",
              "      <td>422</td>\n",
              "      <td>JFK</td>\n",
              "      <td>LAX</td>\n",
              "      <td>376</td>\n",
              "      <td>2475</td>\n",
              "      <td>8</td>\n",
              "      <td>59</td>\n",
              "      <td>0</td>\n",
              "    </tr>\n",
              "    <tr>\n",
              "      <th>3</th>\n",
              "      <td>2013</td>\n",
              "      <td>5</td>\n",
              "      <td>14</td>\n",
              "      <td>1841</td>\n",
              "      <td>-4</td>\n",
              "      <td>2122</td>\n",
              "      <td>-34</td>\n",
              "      <td>DL</td>\n",
              "      <td>N914DL</td>\n",
              "      <td>2391</td>\n",
              "      <td>JFK</td>\n",
              "      <td>TPA</td>\n",
              "      <td>135</td>\n",
              "      <td>1005</td>\n",
              "      <td>18</td>\n",
              "      <td>41</td>\n",
              "      <td>0</td>\n",
              "    </tr>\n",
              "    <tr>\n",
              "      <th>4</th>\n",
              "      <td>2013</td>\n",
              "      <td>7</td>\n",
              "      <td>21</td>\n",
              "      <td>1102</td>\n",
              "      <td>-3</td>\n",
              "      <td>1230</td>\n",
              "      <td>-8</td>\n",
              "      <td>9E</td>\n",
              "      <td>N823AY</td>\n",
              "      <td>3652</td>\n",
              "      <td>LGA</td>\n",
              "      <td>ORF</td>\n",
              "      <td>50</td>\n",
              "      <td>296</td>\n",
              "      <td>11</td>\n",
              "      <td>2</td>\n",
              "      <td>0</td>\n",
              "    </tr>\n",
              "  </tbody>\n",
              "</table>\n",
              "</div>"
            ],
            "text/plain": [
              "   year  month  day  dep_time  ...  distance  hour  minute delay_bool\n",
              "0  2013      6   30       940  ...      2475     9      40          1\n",
              "1  2013      5    7      1657  ...      1598    16      57          0\n",
              "2  2013     12    8       859  ...      2475     8      59          0\n",
              "3  2013      5   14      1841  ...      1005    18      41          0\n",
              "4  2013      7   21      1102  ...       296    11       2          0\n",
              "\n",
              "[5 rows x 17 columns]"
            ]
          },
          "metadata": {},
          "execution_count": 10
        }
      ]
    },
    {
      "cell_type": "code",
      "metadata": {
        "colab": {
          "base_uri": "https://localhost:8080/",
          "height": 205
        },
        "id": "UVhZrx5V7WMC",
        "outputId": "928def25-f4bb-479b-c2b6-09258858f335"
      },
      "source": [
        "chart1 = df.pivot_table(index='month', values='dep_delay',aggfunc='mean')\n",
        "chart1.reset_index(inplace=True)\n",
        "chart1.head()\n",
        "chart2 = df.pivot_table(index='month', values='dep_delay',columns='carrier',aggfunc='mean')\n",
        "chart2.head()\n",
        "chart3 = df.pivot_table(index='month', values='dep_delay',columns='origin',aggfunc='mean')\n",
        "chart3.reset_index(inplace=True)\n",
        "chart3.head()\n",
        "chart4 = df.groupby('origin')['dep_delay'].mean().reset_index()\n",
        "chart4.head()\n",
        "chart5 = df.groupby('carrier')['dep_delay'].mean().reset_index()\n",
        "chart5.sort_values('dep_delay',inplace=True,ascending=False)\n",
        "chart5.head()"
      ],
      "execution_count": null,
      "outputs": [
        {
          "output_type": "execute_result",
          "data": {
            "text/html": [
              "<div>\n",
              "<style scoped>\n",
              "    .dataframe tbody tr th:only-of-type {\n",
              "        vertical-align: middle;\n",
              "    }\n",
              "\n",
              "    .dataframe tbody tr th {\n",
              "        vertical-align: top;\n",
              "    }\n",
              "\n",
              "    .dataframe thead th {\n",
              "        text-align: right;\n",
              "    }\n",
              "</style>\n",
              "<table border=\"1\" class=\"dataframe\">\n",
              "  <thead>\n",
              "    <tr style=\"text-align: right;\">\n",
              "      <th></th>\n",
              "      <th>carrier</th>\n",
              "      <th>dep_delay</th>\n",
              "    </tr>\n",
              "  </thead>\n",
              "  <tbody>\n",
              "    <tr>\n",
              "      <th>8</th>\n",
              "      <td>HA</td>\n",
              "      <td>38.529412</td>\n",
              "    </tr>\n",
              "    <tr>\n",
              "      <th>10</th>\n",
              "      <td>OO</td>\n",
              "      <td>22.000000</td>\n",
              "    </tr>\n",
              "    <tr>\n",
              "      <th>5</th>\n",
              "      <td>EV</td>\n",
              "      <td>20.066122</td>\n",
              "    </tr>\n",
              "    <tr>\n",
              "      <th>7</th>\n",
              "      <td>FL</td>\n",
              "      <td>18.368078</td>\n",
              "    </tr>\n",
              "    <tr>\n",
              "      <th>15</th>\n",
              "      <td>YV</td>\n",
              "      <td>18.264151</td>\n",
              "    </tr>\n",
              "  </tbody>\n",
              "</table>\n",
              "</div>"
            ],
            "text/plain": [
              "   carrier  dep_delay\n",
              "8       HA  38.529412\n",
              "10      OO  22.000000\n",
              "5       EV  20.066122\n",
              "7       FL  18.368078\n",
              "15      YV  18.264151"
            ]
          },
          "metadata": {},
          "execution_count": 76
        }
      ]
    },
    {
      "cell_type": "code",
      "metadata": {
        "colab": {
          "base_uri": "https://localhost:8080/",
          "height": 1000
        },
        "id": "s5effnKz8Y0V",
        "outputId": "a64cba40-4540-4f62-c665-a5c3762aeca0"
      },
      "source": [
        "plt.figure(figsize=(10,6))\n",
        "sns.barplot(data=chart1,x='month', y='dep_delay')\n",
        "plt.title(\"mean delay per month all airports\")\n",
        "plt.show()\n",
        "plt.figure(figsize=(10,6))\n",
        "sns.scatterplot(data=chart2,x='month',y='9E')\n",
        "sns.scatterplot(data=chart2,x='month',y='AA')\n",
        "sns.scatterplot(data=chart2,x='month',y='AS')\n",
        "plt.show()\n",
        "plt.figure(figsize=(10,6))\n",
        "sns.barplot(data=chart3,x='month', y=chart3['EWR'],color='red')\n",
        "sns.barplot(data=chart3,x='month', y=chart3['JFK'],color='blue')\n",
        "sns.barplot(data=chart3,x='month', y=chart3['LGA'],color='green')\n",
        "plt.title(\"mean delay per month three airports\")\n",
        "plt.show()\n",
        "plt.figure(figsize=(10,6))\n",
        "sns.heatmap(df.corr(),cmap=\"YlGnBu\", center=0)\n",
        "plt.show()\n",
        "chart4.plot(x='origin',y='dep_delay',kind='bar')\n",
        "plt.show()\n",
        "plt.figure(figsize=(10,6))\n",
        "sns.barplot(data=chart5,x='carrier', y='dep_delay')\n",
        "plt.title(\"mean delay per carrier all airports\")\n",
        "plt.show()"
      ],
      "execution_count": null,
      "outputs": [
        {
          "output_type": "display_data",
          "data": {
            "image/png": "[encoded data removed]",
            "text/plain": [
              "<Figure size 720x432 with 1 Axes>"
            ]
          },
          "metadata": {
            "needs_background": "light"
          }
        },
        {
          "output_type": "display_data",
          "data": {
            "image/png": "[encoded data removed]",
            "text/plain": [
              "<Figure size 720x432 with 1 Axes>"
            ]
          },
          "metadata": {
            "needs_background": "light"
          }
        },
        {
          "output_type": "display_data",
          "data": {
            "image/png": "[encoded data removed]",
            "text/plain": [
              "<Figure size 720x432 with 1 Axes>"
            ]
          },
          "metadata": {
            "needs_background": "light"
          }
        },
        {
          "output_type": "display_data",
          "data": {
            "image/png": "[encoded data removed]",
            "text/plain": [
              "<Figure size 720x432 with 2 Axes>"
            ]
          },
          "metadata": {
            "needs_background": "light"
          }
        },
        {
          "output_type": "display_data",
          "data": {
            "image/png": "[encoded data removed]",
            "text/plain": [
              "<Figure size 432x288 with 1 Axes>"
            ]
          },
          "metadata": {
            "needs_background": "light"
          }
        },
        {
          "output_type": "display_data",
          "data": {
            "image/png": "[encoded data removed]",
            "text/plain": [
              "<Figure size 720x432 with 1 Axes>"
            ]
          },
          "metadata": {
            "needs_background": "light"
          }
        }
      ]
    },
    {
      "cell_type": "code",
      "metadata": {
        "colab": {
          "base_uri": "https://localhost:8080/",
          "height": 225
        },
        "id": "p0cVLXXxIZVd",
        "outputId": "008cb034-da9c-401f-a529-f950baf9dfa1"
      },
      "source": [
        "df_EWR = df[df['origin'] == 'EWR'].copy()\n",
        "#df_EWR['morning'] = df_EWR\n",
        "df_EWR['dest_n'] = df_EWR['dest'].factorize()[0]\n",
        "df_EWR['delay_bool'] = df_EWR['dep_delay'].apply(lambda item: 1 if int(item) >0 else 0)\n",
        "df_EWR.head()"
      ],
      "execution_count": null,
      "outputs": [
        {
          "output_type": "execute_result",
          "data": {
            "text/html": [
              "<div>\n",
              "<style scoped>\n",
              "    .dataframe tbody tr th:only-of-type {\n",
              "        vertical-align: middle;\n",
              "    }\n",
              "\n",
              "    .dataframe tbody tr th {\n",
              "        vertical-align: top;\n",
              "    }\n",
              "\n",
              "    .dataframe thead th {\n",
              "        text-align: right;\n",
              "    }\n",
              "</style>\n",
              "<table border=\"1\" class=\"dataframe\">\n",
              "  <thead>\n",
              "    <tr style=\"text-align: right;\">\n",
              "      <th></th>\n",
              "      <th>year</th>\n",
              "      <th>month</th>\n",
              "      <th>day</th>\n",
              "      <th>dep_time</th>\n",
              "      <th>dep_delay</th>\n",
              "      <th>arr_time</th>\n",
              "      <th>arr_delay</th>\n",
              "      <th>carrier</th>\n",
              "      <th>tailnum</th>\n",
              "      <th>flight</th>\n",
              "      <th>origin</th>\n",
              "      <th>dest</th>\n",
              "      <th>air_time</th>\n",
              "      <th>distance</th>\n",
              "      <th>hour</th>\n",
              "      <th>minute</th>\n",
              "      <th>delay_bool</th>\n",
              "      <th>dest_n</th>\n",
              "    </tr>\n",
              "  </thead>\n",
              "  <tbody>\n",
              "    <tr>\n",
              "      <th>6</th>\n",
              "      <td>2013</td>\n",
              "      <td>12</td>\n",
              "      <td>9</td>\n",
              "      <td>1259</td>\n",
              "      <td>14</td>\n",
              "      <td>1617</td>\n",
              "      <td>22</td>\n",
              "      <td>WN</td>\n",
              "      <td>N218WN</td>\n",
              "      <td>1428</td>\n",
              "      <td>EWR</td>\n",
              "      <td>HOU</td>\n",
              "      <td>240</td>\n",
              "      <td>1411</td>\n",
              "      <td>12</td>\n",
              "      <td>59</td>\n",
              "      <td>1</td>\n",
              "      <td>0</td>\n",
              "    </tr>\n",
              "    <tr>\n",
              "      <th>9</th>\n",
              "      <td>2013</td>\n",
              "      <td>4</td>\n",
              "      <td>30</td>\n",
              "      <td>1323</td>\n",
              "      <td>62</td>\n",
              "      <td>1549</td>\n",
              "      <td>60</td>\n",
              "      <td>EV</td>\n",
              "      <td>N12163</td>\n",
              "      <td>4162</td>\n",
              "      <td>EWR</td>\n",
              "      <td>JAX</td>\n",
              "      <td>110</td>\n",
              "      <td>820</td>\n",
              "      <td>13</td>\n",
              "      <td>23</td>\n",
              "      <td>1</td>\n",
              "      <td>1</td>\n",
              "    </tr>\n",
              "    <tr>\n",
              "      <th>12</th>\n",
              "      <td>2013</td>\n",
              "      <td>4</td>\n",
              "      <td>26</td>\n",
              "      <td>809</td>\n",
              "      <td>-2</td>\n",
              "      <td>1030</td>\n",
              "      <td>22</td>\n",
              "      <td>EV</td>\n",
              "      <td>N16559</td>\n",
              "      <td>5790</td>\n",
              "      <td>EWR</td>\n",
              "      <td>DAY</td>\n",
              "      <td>87</td>\n",
              "      <td>533</td>\n",
              "      <td>8</td>\n",
              "      <td>9</td>\n",
              "      <td>0</td>\n",
              "      <td>2</td>\n",
              "    </tr>\n",
              "    <tr>\n",
              "      <th>15</th>\n",
              "      <td>2013</td>\n",
              "      <td>1</td>\n",
              "      <td>23</td>\n",
              "      <td>2024</td>\n",
              "      <td>37</td>\n",
              "      <td>2141</td>\n",
              "      <td>29</td>\n",
              "      <td>EV</td>\n",
              "      <td>N17115</td>\n",
              "      <td>4412</td>\n",
              "      <td>EWR</td>\n",
              "      <td>BUF</td>\n",
              "      <td>53</td>\n",
              "      <td>282</td>\n",
              "      <td>20</td>\n",
              "      <td>24</td>\n",
              "      <td>1</td>\n",
              "      <td>3</td>\n",
              "    </tr>\n",
              "    <tr>\n",
              "      <th>16</th>\n",
              "      <td>2013</td>\n",
              "      <td>2</td>\n",
              "      <td>8</td>\n",
              "      <td>644</td>\n",
              "      <td>-1</td>\n",
              "      <td>817</td>\n",
              "      <td>20</td>\n",
              "      <td>EV</td>\n",
              "      <td>N14916</td>\n",
              "      <td>4241</td>\n",
              "      <td>EWR</td>\n",
              "      <td>DCA</td>\n",
              "      <td>45</td>\n",
              "      <td>199</td>\n",
              "      <td>6</td>\n",
              "      <td>44</td>\n",
              "      <td>0</td>\n",
              "      <td>4</td>\n",
              "    </tr>\n",
              "  </tbody>\n",
              "</table>\n",
              "</div>"
            ],
            "text/plain": [
              "    year  month  day  dep_time  ...  hour  minute  delay_bool dest_n\n",
              "6   2013     12    9      1259  ...    12      59           1      0\n",
              "9   2013      4   30      1323  ...    13      23           1      1\n",
              "12  2013      4   26       809  ...     8       9           0      2\n",
              "15  2013      1   23      2024  ...    20      24           1      3\n",
              "16  2013      2    8       644  ...     6      44           0      4\n",
              "\n",
              "[5 rows x 18 columns]"
            ]
          },
          "metadata": {},
          "execution_count": 5
        }
      ]
    },
    {
      "cell_type": "code",
      "metadata": {
        "colab": {
          "base_uri": "https://localhost:8080/"
        },
        "id": "QcX718BlNxvW",
        "outputId": "bfd285e1-26a7-4331-9a89-1043f32211fa"
      },
      "source": [
        "##### EWR airport\n",
        "df_EWR['dest'].value_counts()\n",
        "#df_EWR['dest']\n",
        "# number of dep flights at EWR airport\n",
        "print(\"number of dep flights at EWR airport\", df[df['origin'] == 'EWR'].value_counts().sum())\n",
        "# number of carrier at EWR aiport\n",
        "print(\"number of carrier at EWR aiport\", df_EWR['carrier'].nunique())\n",
        "# Number of flights by carrier at EWR airport\n",
        "print(\"Number of flights by carrier at EWR airport\\n\",df_EWR['carrier'].value_counts())\n",
        "# average departure delay in minutes at EWR airport\n",
        "cond = df_EWR['delay_bool']==1\n",
        "print(\"average departure delay in minutes at EWR airport\", df_EWR.loc[cond]['dep_delay'].mean())\n",
        "#average departure delay in minutes at EWR airport per carrier\n",
        "print(\"average departure delay in minutes at EWR airport per carrier\\n\",df_EWR.loc[cond].groupby(\"carrier\")['dep_delay'].mean())\n"
      ],
      "execution_count": null,
      "outputs": [
        {
          "output_type": "stream",
          "name": "stdout",
          "text": [
            "number of dep flights at EWR airport 11771\n",
            "number of carrier at EWR aiport 12\n",
            "Number of flights by carrier at EWR airport\n",
            " UA    4559\n",
            "EV    4170\n",
            "WN     631\n",
            "B6     625\n",
            "DL     445\n",
            "US     444\n",
            "AA     350\n",
            "MQ     210\n",
            "VX     149\n",
            "9E     121\n",
            "AS      66\n",
            "OO       1\n",
            "Name: carrier, dtype: int64\n",
            "average departure delay in minutes at EWR airport 39.09809828657503\n",
            "average departure delay in minutes at EWR airport per carrier\n",
            " carrier\n",
            "9E    43.500000\n",
            "AA    46.576087\n",
            "AS    39.705882\n",
            "B6    46.659292\n",
            "DL    49.582781\n",
            "EV    49.826520\n",
            "MQ    55.782051\n",
            "UA    28.619785\n",
            "US    34.822917\n",
            "VX    39.173077\n",
            "WN    35.841176\n",
            "Name: dep_delay, dtype: float64\n"
          ]
        }
      ]
    },
    {
      "cell_type": "code",
      "metadata": {
        "colab": {
          "base_uri": "https://localhost:8080/"
        },
        "id": "LJfe8TZtX9HM",
        "outputId": "1c75043e-d9c7-42bc-d0d1-bdef5cae3e24"
      },
      "source": [
        "##### LGA airport\n",
        "\n",
        "df_LGA = df[df['origin'] == 'LGA'].copy()\n",
        "\n",
        "df_LGA['delay_bool'] = df_LGA['dep_delay'].apply(lambda item: 1 if int(item) >0 else 0)\n",
        "df_LGA.head()\n",
        "\n",
        "df_LGA['dest'].value_counts()\n",
        "#df_EWR['dest']\n",
        "# number of dep flights at LGA airport\n",
        "print(\"number of dep flights at LGA airport\" ,df[df['origin'] == 'LGA'].value_counts().sum())\n",
        "# number of carrier at LGA aiport\n",
        "print(\"number of carrier at LGA aiport\",df_LGA['carrier'].nunique())\n",
        "# Number of flights by carrier at LGA airport\n",
        "print(\"Number of flights by carrier at LGA airport\\n\", df_LGA['carrier'].value_counts())\n",
        "# average departure delay in minutes at LGA airport\n",
        "cond = df_LGA['delay_bool']==1\n",
        "print(\"average departure delay in minutes at LGA airport\", df_LGA.loc[cond]['dep_delay'].mean())\n",
        "#average departure delay in minutes at LGA airport per carrier\n",
        "print(\"average departure delay in minutes at LGA airport per carrier\\n\", df_LGA.loc[cond].groupby(\"carrier\")['dep_delay'].mean())\n"
      ],
      "execution_count": null,
      "outputs": [
        {
          "output_type": "stream",
          "name": "stdout",
          "text": [
            "number of dep flights at LGA airport 10067\n",
            "number of carrier at LGA aiport 13\n",
            "Number of flights by carrier at LGA airport\n",
            " DL    2236\n",
            "MQ    1580\n",
            "AA    1450\n",
            "US    1269\n",
            "EV     854\n",
            "UA     771\n",
            "WN     630\n",
            "B6     585\n",
            "FL     307\n",
            "9E     261\n",
            "F9      69\n",
            "YV      53\n",
            "OO       2\n",
            "Name: carrier, dtype: int64\n",
            "average departure delay in minutes at LGA airport 41.121921921921924\n",
            "average departure delay in minutes at LGA airport per carrier\n",
            " carrier\n",
            "9E    41.211111\n",
            "AA    37.516055\n",
            "B6    45.581081\n",
            "DL    38.061840\n",
            "EV    59.960245\n",
            "F9    29.828571\n",
            "FL    39.462963\n",
            "MQ    41.443966\n",
            "OO    85.000000\n",
            "UA    41.062500\n",
            "US    36.934932\n",
            "WN    34.449848\n",
            "YV    57.714286\n",
            "Name: dep_delay, dtype: float64\n"
          ]
        }
      ]
    },
    {
      "cell_type": "code",
      "metadata": {
        "colab": {
          "base_uri": "https://localhost:8080/"
        },
        "id": "V1M_UlgEZ4Xj",
        "outputId": "61f578f1-9541-4e5b-a8f1-9bf791917322"
      },
      "source": [
        "print(\"Number of flights by carrier at LGA airport\\n\", df_LGA['carrier'].value_counts())"
      ],
      "execution_count": null,
      "outputs": [
        {
          "output_type": "stream",
          "name": "stdout",
          "text": [
            "Number of flights by carrier at LGA airport\n",
            " DL    2236\n",
            "MQ    1580\n",
            "AA    1450\n",
            "US    1269\n",
            "EV     854\n",
            "UA     771\n",
            "WN     630\n",
            "B6     585\n",
            "FL     307\n",
            "9E     261\n",
            "F9      69\n",
            "YV      53\n",
            "OO       2\n",
            "Name: carrier, dtype: int64\n"
          ]
        }
      ]
    },
    {
      "cell_type": "code",
      "metadata": {
        "colab": {
          "base_uri": "https://localhost:8080/",
          "height": 296
        },
        "id": "sZbKVl7TLRnV",
        "outputId": "569e9278-5a51-4c36-eb1c-fa05e8401e28"
      },
      "source": [
        "#plt.figure(figsize=(10,5))\n",
        "#sns.histplot(data=df_EWR,x='dest_n')\n",
        "#sns.scatterplot(data=big_data_frame,x=big_data_frame['DATE'].dt.year, y=big_data_frame['MAX_TEMPERATURE_C'].median(),color='red')\n",
        "plt.show()\n",
        "df1= df_LGA['carrier'].value_counts()\n",
        "df1=df.reset_index()\n",
        "sns.barplot(data=df1,x='index',y='carrier')"
      ],
      "execution_count": null,
      "outputs": [
        {
          "output_type": "execute_result",
          "data": {
            "text/plain": [
              "<matplotlib.axes._subplots.AxesSubplot at 0x7f5f81a975d0>"
            ]
          },
          "metadata": {},
          "execution_count": 125
        },
        {
          "output_type": "display_data",
          "data": {
            "image/png": "[encoded data removed]",
            "text/plain": [
              "<Figure size 432x288 with 1 Axes>"
            ]
          },
          "metadata": {
            "needs_background": "light"
          }
        }
      ]
    },
    {
      "cell_type": "code",
      "metadata": {
        "colab": {
          "base_uri": "https://localhost:8080/"
        },
        "id": "2QkMtpF-b0tV",
        "outputId": "9da666e1-dda5-4e40-98d3-2fd448e37c4e"
      },
      "source": [
        "df.head()\n",
        "df_LGA.loc[cond]['dep_delay'].mean()"
      ],
      "execution_count": null,
      "outputs": [
        {
          "output_type": "execute_result",
          "data": {
            "text/plain": [
              "41.121921921921924"
            ]
          },
          "metadata": {},
          "execution_count": 126
        }
      ]
    }
  ]
}